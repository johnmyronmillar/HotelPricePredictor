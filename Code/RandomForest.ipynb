{
 "cells": [
  {
   "cell_type": "code",
   "execution_count": null,
   "metadata": {},
   "outputs": [],
   "source": [
    "import numpy as np\n",
    "import pandas as pd\n",
    "import hvplot.pandas\n",
    "from collections import Counter\n",
    "from pathlib import Path\n",
    "%matplotlib inline\n",
    "\n",
    "import warnings\n",
    "warnings.filterwarnings('ignore')"
   ]
  },
  {
   "cell_type": "code",
   "execution_count": null,
   "metadata": {},
   "outputs": [],
   "source": [
    "# Set the random seed for reproducibility\n",
    "from numpy.random import seed\n",
    "seed(1)\n",
    "from tensorflow import random\n",
    "random.set_seed(2)"
   ]
  },
  {
   "cell_type": "code",
   "execution_count": null,
   "metadata": {},
   "outputs": [],
   "source": [
    "# Load the fear and greed sentiment data for Bitcoin\n",
    "csv_path = Path('../Resources/hotel_bookings.csv')\n",
    "\n",
    "df = pd.read_csv(csv_path)\n",
    "df.head()"
   ]
  },
  {
   "cell_type": "code",
   "execution_count": null,
   "metadata": {},
   "outputs": [],
   "source": [
    "# Month Name to Number\n",
    "def month_num(df):\n",
    "    import calendar\n",
    "    name_to_num = {name: num for num, name in enumerate(calendar.month_name) if num}\n",
    "    df[\"arrival_date_month\"] = df[\"arrival_date_month\"].apply(lambda x: name_to_num[x])\n",
    "    return df"
   ]
  },
  {
   "cell_type": "code",
   "execution_count": null,
   "metadata": {},
   "outputs": [],
   "source": [
    "# combine year, months, day\n",
    "def combine_date(df):\n",
    "    date = df[['arrival_date_year', 'arrival_date_month', 'arrival_date_day_of_month']]\n",
    "    date_df = date['arrival_date_year'].map(str) + '-' + date['arrival_date_month'].map(str) + '-' + date['arrival_date_day_of_month'].map(str)\n",
    "    date = pd.to_datetime(date_df)\n",
    "    df['date'] = date\n",
    "    return df"
   ]
  },
  {
   "cell_type": "code",
   "execution_count": null,
   "metadata": {},
   "outputs": [],
   "source": [
    "# Filter by Hotel Type\n",
    "def hotel_df(df, hotel):\n",
    "    rslt_df = df.loc[df['hotel'].isin(hotel)]\n",
    "    drop_columns = ['hotel']\n",
    "    rslt_df = rslt_df.drop(drop_columns, axis=1)\n",
    "    return rslt_df"
   ]
  },
  {
   "cell_type": "code",
   "execution_count": null,
   "metadata": {},
   "outputs": [],
   "source": [
    "# Filter out segments like Undefined\n",
    "def market_segment(df, list):\n",
    "    index_names = df[\n",
    "        (df['market_segment']==(list[0]))\n",
    "        & (df['market_segment']==(list[1]))\n",
    "        & (df['market_segment']==(list[2]))\n",
    "        & (df['market_segment']==(list[3]))\n",
    "        & (df['meal']==(list[0]))\n",
    "        ].index\n",
    "    df.drop(index_names, inplace=True)\n",
    "    return df"
   ]
  },
  {
   "cell_type": "code",
   "execution_count": null,
   "metadata": {},
   "outputs": [],
   "source": [
    "# Filter out Min Prices\n",
    "def adr_min(df, num):\n",
    "    index_names = df[df['adr']<=num].index\n",
    "    df.drop(index_names, inplace=True)\n",
    "    return df"
   ]
  },
  {
   "cell_type": "code",
   "execution_count": null,
   "metadata": {},
   "outputs": [],
   "source": [
    "# Drop unnecessary columns\n",
    "def drop_columns(df, columns):\n",
    "    df = df.drop(columns, axis=1)\n",
    "    df = df.dropna()\n",
    "    return df"
   ]
  },
  {
   "cell_type": "code",
   "execution_count": null,
   "metadata": {},
   "outputs": [],
   "source": [
    "# filter by country\n",
    "def country_df(df, country):\n",
    "    df = df.loc[df['country'].isin(country)]\n",
    "    drop_columns = ['country']\n",
    "    df = df.drop(drop_columns, axis=1)\n",
    "    return df"
   ]
  },
  {
   "cell_type": "code",
   "execution_count": null,
   "metadata": {},
   "outputs": [],
   "source": [
    "# get dummies\n",
    "def get_dummies(df, columns):\n",
    "    df = pd.get_dummies(df, columns = columns)\n",
    "    return df"
   ]
  },
  {
   "cell_type": "code",
   "execution_count": null,
   "metadata": {},
   "outputs": [],
   "source": [
    "# Month Name to Number\n",
    "df = month_num(df)\n",
    "df"
   ]
  },
  {
   "cell_type": "code",
   "execution_count": null,
   "metadata": {},
   "outputs": [],
   "source": [
    "df = combine_date(df)\n",
    "df"
   ]
  },
  {
   "cell_type": "code",
   "execution_count": null,
   "metadata": {},
   "outputs": [],
   "source": [
    "# filter by 'Resort Hotel' or 'City Hotel'\n",
    "df = hotel_df(df, ['Resort Hotel'])\n",
    "df"
   ]
  },
  {
   "cell_type": "code",
   "execution_count": null,
   "metadata": {},
   "outputs": [],
   "source": [
    "df = adr_min(df, 20.0)\n",
    "df"
   ]
  },
  {
   "cell_type": "code",
   "execution_count": null,
   "metadata": {
    "scrolled": true
   },
   "outputs": [],
   "source": [
    "df = market_segment(df, ['Undefined', 'Aviation', 'Complementary', 'Corporate'])\n",
    "df"
   ]
  },
  {
   "cell_type": "code",
   "execution_count": null,
   "metadata": {},
   "outputs": [],
   "source": [
    "# Drop unnecessary columns\n",
    "df = drop_columns(df, [\n",
    "    'is_repeated_guest',\n",
    "    'arrival_date_day_of_month',\n",
    "    'deposit_type', \n",
    "    'is_canceled', \n",
    "    'booking_changes', \n",
    "    'days_in_waiting_list',\n",
    "    'agent',\n",
    "    'company',\n",
    "    'reservation_status',\n",
    "    'reservation_status_date',\n",
    "    'customer_type',\n",
    "    'assigned_room_type',\n",
    "    'distribution_channel',\n",
    "    'market_segment',\n",
    "    'distribution_channel',\n",
    "    'previous_cancellations',\n",
    "    'previous_bookings_not_canceled',\n",
    "    'assigned_room_type',\n",
    "    'total_of_special_requests',\n",
    "    'adults',\n",
    "    'children',\n",
    "    'babies',\n",
    "    'required_car_parking_spaces'])\n",
    "\n",
    "df"
   ]
  },
  {
   "cell_type": "code",
   "execution_count": null,
   "metadata": {
    "scrolled": false
   },
   "outputs": [],
   "source": [
    "df = df.dropna()\n",
    "df"
   ]
  },
  {
   "cell_type": "code",
   "execution_count": null,
   "metadata": {
    "scrolled": true
   },
   "outputs": [],
   "source": [
    "df = country_df(df, ['BRA'])\n",
    "df"
   ]
  },
  {
   "cell_type": "code",
   "execution_count": null,
   "metadata": {
    "scrolled": true
   },
   "outputs": [],
   "source": [
    "df = get_dummies(df, ['meal', 'reserved_room_type'])\n",
    "df"
   ]
  },
  {
   "cell_type": "code",
   "execution_count": null,
   "metadata": {},
   "outputs": [],
   "source": [
    "y = df['adr']\n",
    "y = y.round(-1)\n",
    "y.head()"
   ]
  },
  {
   "cell_type": "code",
   "execution_count": null,
   "metadata": {
    "scrolled": true
   },
   "outputs": [],
   "source": [
    "X = df.drop('adr', axis=1)\n",
    "X"
   ]
  },
  {
   "cell_type": "code",
   "execution_count": null,
   "metadata": {},
   "outputs": [],
   "source": [
    "# drop full date\n",
    "X = X.drop('date', axis=1)"
   ]
  },
  {
   "cell_type": "code",
   "execution_count": null,
   "metadata": {},
   "outputs": [],
   "source": [
    "# Normal train-test split\n",
    "from sklearn.model_selection import train_test_split\n",
    "X_train, X_test, y_train, y_test = train_test_split(X, y, random_state=1)\n",
    "\n",
    "# Fit a Random Forest Classifier\n",
    "from sklearn.ensemble import RandomForestClassifier\n",
    "rf = RandomForestClassifier(n_estimators=1000, random_state=1)\n",
    "rf.fit(X_train, y_train)"
   ]
  },
  {
   "cell_type": "code",
   "execution_count": null,
   "metadata": {
    "scrolled": true
   },
   "outputs": [],
   "source": [
    "# Make a prediction of \"y\" values from the X_test dataset\n",
    "predictions = rf.predict(X_test)\n",
    "\n",
    "# Assemble actual y data (Y_test) with predicted y data (from just above) into two columns in a dataframe:\n",
    "Results = y_test.to_frame()\n",
    "Results[\"Predicted Value\"] = predictions\n",
    "\n",
    "Results['Date'] = df['date']\n",
    "\n",
    "Results.sort_values([\"Date\"], axis=0, ascending=True, inplace=True)\n",
    "\n",
    "Results['Diff'] = Results['Predicted Value'] - Results.adr\n",
    "\n",
    "Results"
   ]
  },
  {
   "cell_type": "code",
   "execution_count": null,
   "metadata": {
    "scrolled": false
   },
   "outputs": [],
   "source": [
    "Results.hvplot(kind='scatter', x='Date', y='Diff')"
   ]
  },
  {
   "cell_type": "code",
   "execution_count": null,
   "metadata": {},
   "outputs": [],
   "source": [
    "# feature importance\n"
   ]
  },
  {
   "cell_type": "code",
   "execution_count": null,
   "metadata": {},
   "outputs": [],
   "source": [
    "# from sklearn.metrics import confusion_matrix\n",
    "# confusion_matrix(adr, Predicted Value)"
   ]
  }
 ],
 "metadata": {
  "kernelspec": {
   "display_name": "Python 3",
   "language": "python",
   "name": "python3"
  },
  "language_info": {
   "codemirror_mode": {
    "name": "ipython",
    "version": 3
   },
   "file_extension": ".py",
   "mimetype": "text/x-python",
   "name": "python",
   "nbconvert_exporter": "python",
   "pygments_lexer": "ipython3",
   "version": "3.7.6"
  }
 },
 "nbformat": 4,
 "nbformat_minor": 4
}
